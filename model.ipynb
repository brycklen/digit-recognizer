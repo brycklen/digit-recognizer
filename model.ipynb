{
 "cells": [
  {
   "cell_type": "code",
   "execution_count": 1,
   "metadata": {
    "id": "re4Qwd4kCKHP"
   },
   "outputs": [],
   "source": [
    "# Necessary TensorFlow model components + dataset\n",
    "import tensorflow as tf\n",
    "from tensorflow.keras.models import Sequential\n",
    "from tensorflow.keras.layers import Dense,Dropout,Flatten\n",
    "from tensorflow.keras.datasets import mnist\n",
    "\n",
    "# Javascript implementation\n",
    "import tensorflowjs"
   ]
  },
  {
   "cell_type": "code",
   "execution_count": 2,
   "metadata": {
    "id": "wtGakLWYCKHS"
   },
   "outputs": [],
   "source": [
    "# The mnist dataset is provided in terms of (x1, y1), (x2, y2),\n",
    "# where the first dataset is the training data and the second is for testing\n",
    "(x_train,y_train), (x_test,y_test) = mnist.load_data()"
   ]
  },
  {
   "cell_type": "code",
   "execution_count": 3,
   "metadata": {
    "id": "t1AWevLNCKHV"
   },
   "outputs": [],
   "source": [
    "# Normalizing RGB values to put them on a scale from 0-1\n",
    "# This is how TensorFlow processes image models\n",
    "x_train = x_train / 255\n",
    "x_test = x_test / 255\n",
    "\n",
    "# Reclassify y datasets to fit within 10 classes\n",
    "from tensorflow.keras.utils import to_categorical\n",
    "y_train = to_categorical(y_train, num_classes = 10)\n",
    "y_test = to_categorical(y_test, num_classes = 10)"
   ]
  },
  {
   "cell_type": "code",
   "execution_count": 4,
   "metadata": {
    "id": "N1Aw7RXlCKHX"
   },
   "outputs": [],
   "source": [
    "# Defining model within a function\n",
    "# This could have also been done without the function\n",
    "# However, this function feels more appropriate for production-grade programming\n",
    "def train_mnist(x_train, y_train):\n",
    "    \n",
    "    # Model Overview:\n",
    "    # Flatten layer that receives inputs with the same shape as the images (28x28)\n",
    "    # Dense layer with 512 neurons and ReLU activation function\n",
    "    # Dropout layer with a weight of 0.6 to prevent overfitting\n",
    "    # Dense layer with 10 neurons and softmax activation function\n",
    "    # Note: layers are spread across 4 lines for the purpose of visualizing the network\n",
    "    model = tf.keras.models.Sequential([ \n",
    "        tf.keras.layers.Flatten(input_shape=(28, 28)),\n",
    "        tf.keras.layers.Dense(512, activation=tf.nn.relu),\n",
    "        tf.keras.layers.Dropout(0.6),\n",
    "        tf.keras.layers.Dense(10, activation=tf.nn.softmax)\n",
    "    ]) \n",
    "\n",
    "    # Compile the model\n",
    "    model.compile(optimizer='adam', loss='categorical_crossentropy', metrics=['accuracy']) \n",
    "    \n",
    "    # Train the model for 15 epochs\n",
    "    model.fit(x_train, y_train, epochs=15)\n",
    "    \n",
    "    # Test the trained model across the test dataset\n",
    "    model.evaluate(x_test, y_test)\n",
    "    \n",
    "    # Give a high-level overview of the layers of this model\n",
    "    model.summary()\n",
    "\n",
    "    return model"
   ]
  },
  {
   "cell_type": "code",
   "execution_count": 5,
   "metadata": {
    "colab": {
     "base_uri": "https://localhost:8080/"
    },
    "id": "z3bLN8qaCKHX",
    "outputId": "dddb515e-462c-4cee-897b-81b14622ebab"
   },
   "outputs": [
    {
     "name": "stdout",
     "output_type": "stream",
     "text": [
      "Epoch 1/15\n",
      "1875/1875 [==============================] - 3s 2ms/step - loss: 0.2982 - accuracy: 0.9110\n",
      "Epoch 2/15\n",
      "1875/1875 [==============================] - 3s 1ms/step - loss: 0.1613 - accuracy: 0.9509\n",
      "Epoch 3/15\n",
      "1875/1875 [==============================] - 3s 1ms/step - loss: 0.1320 - accuracy: 0.9592\n",
      "Epoch 4/15\n",
      "1875/1875 [==============================] - 3s 2ms/step - loss: 0.1135 - accuracy: 0.9654\n",
      "Epoch 5/15\n",
      "1875/1875 [==============================] - 3s 2ms/step - loss: 0.1021 - accuracy: 0.9688\n",
      "Epoch 6/15\n",
      "1875/1875 [==============================] - 3s 1ms/step - loss: 0.0972 - accuracy: 0.9695\n",
      "Epoch 7/15\n",
      "1875/1875 [==============================] - 3s 1ms/step - loss: 0.0885 - accuracy: 0.9726\n",
      "Epoch 8/15\n",
      "1875/1875 [==============================] - 3s 2ms/step - loss: 0.0849 - accuracy: 0.9734\n",
      "Epoch 9/15\n",
      "1875/1875 [==============================] - 3s 2ms/step - loss: 0.0794 - accuracy: 0.9751\n",
      "Epoch 10/15\n",
      "1875/1875 [==============================] - 3s 2ms/step - loss: 0.0744 - accuracy: 0.9758\n",
      "Epoch 11/15\n",
      "1875/1875 [==============================] - 3s 2ms/step - loss: 0.0720 - accuracy: 0.9772\n",
      "Epoch 12/15\n",
      "1875/1875 [==============================] - 3s 2ms/step - loss: 0.0689 - accuracy: 0.9789\n",
      "Epoch 13/15\n",
      "1875/1875 [==============================] - 3s 2ms/step - loss: 0.0665 - accuracy: 0.9787\n",
      "Epoch 14/15\n",
      "1875/1875 [==============================] - 4s 2ms/step - loss: 0.0648 - accuracy: 0.9791\n",
      "Epoch 15/15\n",
      "1875/1875 [==============================] - 3s 2ms/step - loss: 0.0661 - accuracy: 0.9796\n",
      "313/313 [==============================] - 0s 651us/step - loss: 0.0759 - accuracy: 0.9815\n",
      "Model: \"sequential\"\n",
      "_________________________________________________________________\n",
      " Layer (type)                Output Shape              Param #   \n",
      "=================================================================\n",
      " flatten (Flatten)           (None, 784)               0         \n",
      "                                                                 \n",
      " dense (Dense)               (None, 512)               401920    \n",
      "                                                                 \n",
      " dropout (Dropout)           (None, 512)               0         \n",
      "                                                                 \n",
      " dense_1 (Dense)             (None, 10)                5130      \n",
      "                                                                 \n",
      "=================================================================\n",
      "Total params: 407,050\n",
      "Trainable params: 407,050\n",
      "Non-trainable params: 0\n",
      "_________________________________________________________________\n"
     ]
    }
   ],
   "source": [
    "model = train_mnist(x_train, y_train)"
   ]
  },
  {
   "cell_type": "code",
   "execution_count": 6,
   "metadata": {
    "id": "bcTl4M0WCKHY"
   },
   "outputs": [],
   "source": [
    "# Save our model + weights in Javascript/json files\n",
    "model_json = model.to_json()\n",
    "\n",
    "with open(\"model.json\",\"w\") as json_file:\n",
    "    json_file.write(model_json)\n",
    "\n",
    "model.save_weights(\"./models/models.h5\")"
   ]
  },
  {
   "cell_type": "code",
   "execution_count": 7,
   "metadata": {
    "colab": {
     "base_uri": "https://localhost:8080/",
     "height": 321
    },
    "id": "TNeCDItPCKHY",
    "outputId": "4fe8f55c-fee0-462c-eff7-ba74c5b76aa1"
   },
   "outputs": [],
   "source": [
    "# Save javascript version of the trained model\n",
    "tensorflowjs.converters.save_keras_model(model,'./models')"
   ]
  }
 ],
 "metadata": {
  "colab": {
   "name": "model.ipynb",
   "provenance": []
  },
  "kernelspec": {
   "display_name": "Python 3 (ipykernel)",
   "language": "python",
   "name": "python3"
  },
  "language_info": {
   "codemirror_mode": {
    "name": "ipython",
    "version": 3
   },
   "file_extension": ".py",
   "mimetype": "text/x-python",
   "name": "python",
   "nbconvert_exporter": "python",
   "pygments_lexer": "ipython3",
   "version": "3.9.7"
  }
 },
 "nbformat": 4,
 "nbformat_minor": 1
}
